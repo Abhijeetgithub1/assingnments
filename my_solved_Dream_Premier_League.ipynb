{
  "nbformat": 4,
  "nbformat_minor": 0,
  "metadata": {
    "colab": {
      "name": "my solved Dream Premier League.ipynb",
      "provenance": [],
      "collapsed_sections": [],
      "include_colab_link": true
    },
    "kernelspec": {
      "name": "python3",
      "display_name": "Python 3"
    }
  },
  "cells": [
    {
      "cell_type": "markdown",
      "metadata": {
        "id": "view-in-github",
        "colab_type": "text"
      },
      "source": [
        "<a href=\"https://colab.research.google.com/github/Abhijeetgithub1/assingnments/blob/main/my_solved_Dream_Premier_League.ipynb\" target=\"_parent\"><img src=\"https://colab.research.google.com/assets/colab-badge.svg\" alt=\"Open In Colab\"/></a>"
      ]
    },
    {
      "cell_type": "markdown",
      "metadata": {
        "id": "8hjlpv4ix8LQ"
      },
      "source": [
        "# <u>Dream Premier League (DPL)</u>\n",
        "\n",
        "### A match of DPL is going on. Team Aravali has a made score of **195** for **7** in **20** overs and the opponent Team Shivalik is doing some analytics to find out what they need to do to win. You are the Data Scientist of the Team Shivalik and you have been asked to help them."
      ]
    },
    {
      "cell_type": "markdown",
      "metadata": {
        "id": "JkqzpQzX54Z-"
      },
      "source": [
        "## <u>Problem 1</u>\n",
        " \n",
        "###Team Shivalik has stored the runs made by Team Aravali players in the following dictionary.\n",
        "\n"
      ]
    },
    {
      "cell_type": "code",
      "metadata": {
        "id": "rypcBaB37JMD"
      },
      "source": [
        "aravali ={ \"Dhoni\":25, \"Virat\":31, \"Pollard\":11, \"Rohit\": 0, \"Maxwell\":12, \"Sachin\":59, \"Sehwag\":12 }\n"
      ],
      "execution_count": null,
      "outputs": []
    },
    {
      "cell_type": "markdown",
      "metadata": {
        "id": "747H1msbg-ns"
      },
      "source": [
        "### Get the list of all players in Team Aravali"
      ]
    },
    {
      "cell_type": "code",
      "metadata": {
        "id": "poP0TCGdhLuj",
        "outputId": "19ad394a-d68e-41ff-e1b1-eaa9afb488f3",
        "colab": {
          "base_uri": "https://localhost:8080/"
        }
      },
      "source": [
        "# Get the list of players in Team Aravali\n",
        "list_of_players_aravali=aravali.keys()\n",
        "print(list_of_players_aravali)\n"
      ],
      "execution_count": null,
      "outputs": [
        {
          "output_type": "stream",
          "name": "stdout",
          "text": [
            "dict_keys(['Dhoni', 'Virat', 'Pollard', 'Rohit', 'Maxwell', 'Sachin', 'Sehwag'])\n"
          ]
        }
      ]
    },
    {
      "cell_type": "markdown",
      "metadata": {
        "id": "YypMEr-i7fCE"
      },
      "source": [
        "## <u>Problem 2</u>\n",
        "\n",
        "### By mistake, the runs made by Rohit was recorded as <code>0</code>. Your next task is to figure out how many runs were made by Rohit and update the dictionary"
      ]
    },
    {
      "cell_type": "code",
      "metadata": {
        "id": "DZTXlt9I51vd",
        "outputId": "c0b21376-7bf8-4e52-9e79-1826adf370a5",
        "colab": {
          "base_uri": "https://localhost:8080/"
        }
      },
      "source": [
        "# We know the total runs\n",
        "\n",
        "total_runs=aravali.values()\n",
        "print(list(total_runs))\n",
        "Rohit_runs=(195-(sum(total_runs)))\n",
        "\n",
        "\n",
        "\n",
        "\n",
        "\n",
        "\n"
      ],
      "execution_count": null,
      "outputs": [
        {
          "output_type": "stream",
          "name": "stdout",
          "text": [
            "[25, 31, 11, 0, 12, 59, 12]\n"
          ]
        }
      ]
    },
    {
      "cell_type": "code",
      "metadata": {
        "id": "N46LGzE97waZ",
        "outputId": "70457434-3626-4d48-8ff0-9fcc49804772",
        "colab": {
          "base_uri": "https://localhost:8080/"
        }
      },
      "source": [
        "# Print runs scored by Rohit\n",
        "Rohit_runs"
      ],
      "execution_count": null,
      "outputs": [
        {
          "output_type": "execute_result",
          "data": {
            "text/plain": [
              "45"
            ]
          },
          "metadata": {},
          "execution_count": 20
        }
      ]
    },
    {
      "cell_type": "code",
      "metadata": {
        "id": "4rTAegi67zOq",
        "outputId": "008ccba8-2511-4004-d1e4-02b19bb91010",
        "colab": {
          "base_uri": "https://localhost:8080/"
        }
      },
      "source": [
        "# Update the dictionary with correct value of runs\n",
        "\n",
        "aravali['Rohit']=(Rohit_runs)\n",
        "print(aravali)"
      ],
      "execution_count": null,
      "outputs": [
        {
          "output_type": "stream",
          "name": "stdout",
          "text": [
            "{'Dhoni': 25, 'Virat': 31, 'Pollard': 11, 'Rohit': 45, 'Maxwell': 12, 'Sachin': 59, 'Sehwag': 12}\n"
          ]
        }
      ]
    },
    {
      "cell_type": "markdown",
      "metadata": {
        "id": "iM1FJFlWh7C5"
      },
      "source": [
        "## <u>Problem 4</u>\n",
        "\n",
        "#### Your next task is to find out who scored the second highest runs in Team Aravali"
      ]
    },
    {
      "cell_type": "code",
      "metadata": {
        "id": "YPdfTlsKiWVx",
        "outputId": "74c859b2-7eb6-4695-ff27-651f1269a8f6",
        "colab": {
          "base_uri": "https://localhost:8080/"
        }
      },
      "source": [
        "# Your code below\n",
        "second_highest=(sorted(aravali.values()))\n",
        "second_highest=second_highest[-2]\n",
        "print(second_highest)\n",
        "\n",
        "\n",
        "\n",
        "\n",
        "\n",
        "\n"
      ],
      "execution_count": null,
      "outputs": [
        {
          "output_type": "stream",
          "name": "stdout",
          "text": [
            "45\n"
          ]
        }
      ]
    },
    {
      "cell_type": "markdown",
      "metadata": {
        "id": "se80XQGBGekX"
      },
      "source": [
        "## <u>Problem 4</u>\n",
        "\n",
        "#### Just out of curiosity, you want to find out the unique runs made by Team Aravali players."
      ]
    },
    {
      "cell_type": "code",
      "metadata": {
        "id": "X-XQWW4lGZaG"
      },
      "source": [
        "# Your code below\n",
        "run_set =set(list(total_runs))"
      ],
      "execution_count": null,
      "outputs": []
    },
    {
      "cell_type": "code",
      "metadata": {
        "id": "GL56nYUzF6hs",
        "outputId": "91a9cc17-77bb-476b-ab8b-70dc9a7d7c2e",
        "colab": {
          "base_uri": "https://localhost:8080/"
        }
      },
      "source": [
        "# Print the unique runs\n",
        "run_set"
      ],
      "execution_count": null,
      "outputs": [
        {
          "output_type": "execute_result",
          "data": {
            "text/plain": [
              "{11, 12, 25, 31, 45, 59}"
            ]
          },
          "metadata": {},
          "execution_count": 39
        }
      ]
    },
    {
      "cell_type": "markdown",
      "metadata": {
        "id": "IJvnHaNzeGMP"
      },
      "source": [
        "## <u>Problem 5</u>\n",
        "#### Team Shivalik has 6 fixed players and 5 slots for players who are playing good currently. Create two collections using appropriate data structure to write this 6 fixed and 5 mutable players. You can choose any player you want.\n",
        "\n",
        "#### Available Players in the squad : \n",
        "<code>['Vijay', 'Lasith', 'Dravid', 'Smith', 'Ambati', 'Hardik', 'Sushant', 'Mandeep', 'Harbhajan', 'Yuvraj', 'Jadeja','Rajeev','Amrit']\n"
      ]
    },
    {
      "cell_type": "code",
      "metadata": {
        "id": "-0hTOMTQdEXE"
      },
      "source": [
        "# Your code below\n",
        "fixed = ['Vijay','Lasith','Dravid','Smith','Ambati','Hardik']\n",
        "mutable =['Sushant','Mandeep','Harbhajan','Yuraj','Jadeja']"
      ],
      "execution_count": null,
      "outputs": []
    },
    {
      "cell_type": "code",
      "metadata": {
        "id": "1PEvrGDwfjc5",
        "outputId": "fd46cac4-9898-49d2-db3b-7c94951bb70a",
        "colab": {
          "base_uri": "https://localhost:8080/"
        }
      },
      "source": [
        "# Print them on same line using comma to seperate them\n",
        "team=fixed+mutable\n",
        "print(list(team))\n"
      ],
      "execution_count": null,
      "outputs": [
        {
          "output_type": "stream",
          "name": "stdout",
          "text": [
            "['Vijay', 'Lasith', 'Dravid', 'Smith', 'Ambati', 'Hardik', 'Sushant', 'Mandeep', 'Harbhajan', 'Yuraj', 'Jadeja']\n"
          ]
        }
      ]
    },
    {
      "cell_type": "markdown",
      "metadata": {
        "id": "N-VdT09NfhL6"
      },
      "source": [
        "## <u>Problem 6</u>\n",
        "Try changing fixed player and mutable player"
      ]
    },
    {
      "cell_type": "code",
      "metadata": {
        "id": "E4lN-bxbffnF",
        "outputId": "8799a4be-4d28-4b96-d017-b3262b04b9be",
        "colab": {
          "base_uri": "https://localhost:8080/"
        }
      },
      "source": [
        "# Change fixed player\n",
        "fixed[0]=mutable[1]\n",
        "print(fixed)\n"
      ],
      "execution_count": null,
      "outputs": [
        {
          "output_type": "stream",
          "name": "stdout",
          "text": [
            "['Mandeep', 'Lasith', 'Dravid', 'Smith', 'Ambati', 'Hardik']\n"
          ]
        }
      ]
    },
    {
      "cell_type": "code",
      "metadata": {
        "id": "mbfWHggRgYJK",
        "outputId": "fdcbf2ed-649a-484d-ba35-e5cafe95b15c",
        "colab": {
          "base_uri": "https://localhost:8080/"
        }
      },
      "source": [
        "# Change mutable player\n",
        "mutable[0]=fixed[1]\n",
        "print(mutable)\n"
      ],
      "execution_count": null,
      "outputs": [
        {
          "output_type": "stream",
          "name": "stdout",
          "text": [
            "['Lasith', 'Mandeep', 'Harbhajan', 'Yuraj', 'Jadeja']\n"
          ]
        }
      ]
    },
    {
      "cell_type": "markdown",
      "metadata": {
        "id": "KHrH5V0HFFhq"
      },
      "source": [
        "## <u> Problem 7</u>\n",
        "\n",
        "#### Find out the runrate required for Team Shivalik to win (for 20 overs)<br> \n",
        "#### Hint: Runrate is runs required per over to win the match"
      ]
    },
    {
      "cell_type": "code",
      "metadata": {
        "id": "QFd1CnS5E79X"
      },
      "source": [
        "# Your code here\n",
        "aravali_runs=195\n",
        "over=20\n",
        "runrate = (aravali_runs+1)/over"
      ],
      "execution_count": null,
      "outputs": []
    },
    {
      "cell_type": "code",
      "metadata": {
        "id": "7f5Mnj93Ft3a",
        "outputId": "9f1e5c09-60fa-4522-a0f9-9f82ab861851",
        "colab": {
          "base_uri": "https://localhost:8080/"
        }
      },
      "source": [
        "# Print the run rate\n",
        "print(runrate)\n"
      ],
      "execution_count": null,
      "outputs": [
        {
          "output_type": "stream",
          "name": "stdout",
          "text": [
            "9.8\n"
          ]
        }
      ]
    },
    {
      "cell_type": "markdown",
      "metadata": {
        "id": "uukQzwZQNwBE"
      },
      "source": [
        "## <u> Problem 8</u>\n",
        "#### You have just received a secret message form your informant stating that some players of the other team are into match fixing. You have to decode a message and inform authorities about it.<br>\n",
        "\n",
        "#### You received a string **\"skdlfjnvuerhw qefnnaosfu qrhviudhfv wuirhv adknlkxjcier vafuvhkajn iuvhsf vasuif KJSHFKJ aeuihvasf akjfhiufe\"** and index of \"i\" are going to be \"no balls\".\n",
        "\n",
        "\n",
        "### Find the first and last no ball from the string."
      ]
    },
    {
      "cell_type": "code",
      "metadata": {
        "id": "qJpki-fNJxvr",
        "outputId": "0fd38982-bcd7-49b1-d05e-f62ace9bac31",
        "colab": {
          "base_uri": "https://localhost:8080/"
        }
      },
      "source": [
        "#First no ball\n",
        "message = \"skdlfjnvuerhw qefnnaosfu qrhviudhfv wuirhv adknlkxjcier vafuvhkajn iuvhsf vasuif KJSHFKJ aeuihvasf akjfhiufe\"\n",
        "\n",
        "first_no_ball=message.index('i')\n",
        "print(first_no_ball)\n",
        "\n",
        "# Last no ball\n",
        "no_ball=message[: :-1].index('i')\n",
        "\n",
        "last_no_ball=len(message)-no_ball\n",
        "print(last_no_ball)"
      ],
      "execution_count": null,
      "outputs": [
        {
          "output_type": "stream",
          "name": "stdout",
          "text": [
            "29\n",
            "105\n"
          ]
        }
      ]
    },
    {
      "cell_type": "code",
      "metadata": {
        "id": "8qMvmZydQAlr",
        "outputId": "63b29864-15cb-40c2-8d51-c1ee5cc7489b",
        "colab": {
          "base_uri": "https://localhost:8080/"
        }
      },
      "source": [
        "# Print the first and last ball numbers\n",
        "print(first_no_ball)\n",
        "print(last_no_ball)\n",
        "\n"
      ],
      "execution_count": null,
      "outputs": [
        {
          "output_type": "stream",
          "name": "stdout",
          "text": [
            "29\n",
            "105\n"
          ]
        }
      ]
    },
    {
      "cell_type": "markdown",
      "metadata": {
        "id": "dOIGKmlKaV8j"
      },
      "source": [
        "## <u>Problem 9</u>\n",
        "\n",
        "### You have given the information about fixing to the authorities and they are going to verify it during the match. But still you have to work on your strategy.\n",
        "\n",
        "### It is in your hands to automate the decision on who goes on 4th position for batting depending on following criteria:\n",
        "\n",
        "* if runs made by Team Shivalik is less than 50, Smith will play\n",
        "* if runs are between 51 to 100 then Sir Jadeja will go\n",
        "* if runs are above 100 then Hardik will play"
      ]
    },
    {
      "cell_type": "code",
      "metadata": {
        "id": "DpnGURU1Y-Af",
        "outputId": "ece9e034-4660-42e9-b6ca-6c56981c6090",
        "colab": {
          "base_uri": "https://localhost:8080/"
        }
      },
      "source": [
        "# Your code below\n",
        "B_runs = int(input())\n",
        "if B_runs<50:\n",
        " print('smith wil play')\n",
        "elif 51<=B_runs<=100:\n",
        "  print('Sir Jadeja will go')\n",
        "elif  B_runs>100:\n",
        "  print('Hardik will play')\n",
        "\n",
        "\n",
        "\n",
        "\n",
        "\n"
      ],
      "execution_count": null,
      "outputs": [
        {
          "output_type": "stream",
          "name": "stdout",
          "text": [
            "100\n",
            "Sir Jadeja will go\n"
          ]
        }
      ]
    },
    {
      "cell_type": "markdown",
      "metadata": {
        "id": "kLakmjOYmKMM"
      },
      "source": [
        "# Hurray! Turns out you won the match and the guilty players are punished as well. You should be proud of yourself!"
      ]
    },
    {
      "cell_type": "code",
      "metadata": {
        "id": "8xRCkwJ76n_I"
      },
      "source": [
        ""
      ],
      "execution_count": null,
      "outputs": []
    }
  ]
}